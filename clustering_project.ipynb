{
  "nbformat": 4,
  "nbformat_minor": 0,
  "metadata": {
    "colab": {
      "provenance": []
    },
    "kernelspec": {
      "name": "python3",
      "display_name": "Python 3"
    },
    "language_info": {
      "name": "python"
    }
  },
  "cells": [
    {
      "cell_type": "markdown",
      "source": [
        "#Project Objective:\n",
        "In this project, three different unsupervised learning clustering algorithms such as, K-means, Nearest Neighbor (NN) and DBScan were implemented from scratch WITHOUT using any clustering libraries API."
      ],
      "metadata": {
        "id": "EJnq0hSHv1QK"
      }
    },
    {
      "cell_type": "markdown",
      "source": [
        "#Datasets:\n",
        "\n",
        "\n",
        "*   Dataset 1: <br>\n",
        "&nbsp;&nbsp;&nbsp;&nbsp;&nbsp;&nbsp;A 2D dataset consisting of 8 data points has been considered: A1=(2,10), A2=(2, 5), A3=(8,4), A4=(5,8), A5=(7,5), <br>&nbsp;&nbsp;&nbsp;&nbsp;&nbsp;&nbsp;A6=(6,4), A7=(1,2), and A8=(4,9)\n",
        "*   Dataset 2: <br>\n",
        "&nbsp;&nbsp;&nbsp;&nbsp;&nbsp;&nbsp;Heart-disease data from Western Cape, South Africa (taken from a larger sample as described in Rousseauw et al,<br>&nbsp;&nbsp;&nbsp;&nbsp;&nbsp;&nbsp;1983, South African Medical Journal) with the following 9 features and 1 target:<br>\n",
        "&nbsp;&nbsp;&nbsp;&nbsp;&nbsp;&nbsp;&nbsp;&nbsp;&nbsp;&nbsp;&nbsp;&nbsp;**sbp**: systolic blood pressure<br>\n",
        "&nbsp;&nbsp;&nbsp;&nbsp;&nbsp;&nbsp;&nbsp;&nbsp;&nbsp;&nbsp;&nbsp;&nbsp;**tobacco**: cumulative tobacco usage(kg)<br>\n",
        "&nbsp;&nbsp;&nbsp;&nbsp;&nbsp;&nbsp;&nbsp;&nbsp;&nbsp;&nbsp;&nbsp;&nbsp;**ldl**: low density lipo-protein cholesterol<br>\n",
        "&nbsp;&nbsp;&nbsp;&nbsp;&nbsp;&nbsp;&nbsp;&nbsp;&nbsp;&nbsp;&nbsp;&nbsp;**adiposity**<br>\n",
        "&nbsp;&nbsp;&nbsp;&nbsp;&nbsp;&nbsp;&nbsp;&nbsp;&nbsp;&nbsp;&nbsp;&nbsp;**famhist**: family history of heart disease <br>\n",
        "&nbsp;&nbsp;&nbsp;&nbsp;&nbsp;&nbsp;&nbsp;&nbsp;&nbsp;&nbsp;&nbsp;&nbsp;**typea**: Type-A personality trait <br>\n",
        "&nbsp;&nbsp;&nbsp;&nbsp;&nbsp;&nbsp;&nbsp;&nbsp;&nbsp;&nbsp;&nbsp;&nbsp;**obesity**<br>\n",
        "&nbsp;&nbsp;&nbsp;&nbsp;&nbsp;&nbsp;&nbsp;&nbsp;&nbsp;&nbsp;&nbsp;&nbsp;**alcohol**: Alcohol consumption (current)<br>\n",
        "&nbsp;&nbsp;&nbsp;&nbsp;&nbsp;&nbsp;&nbsp;&nbsp;&nbsp;&nbsp;&nbsp;&nbsp;**age**: current age at the onset of heart-disease<br>\n",
        "&nbsp;&nbsp;&nbsp;&nbsp;&nbsp;&nbsp;&nbsp;&nbsp;&nbsp;&nbsp;&nbsp;&nbsp;**chd**: coronary heart disease(label/target)<br>\n",
        "\n",
        "\n",
        "\n",
        "\n"
      ],
      "metadata": {
        "id": "bFi8uzy3xvqZ"
      }
    },
    {
      "cell_type": "markdown",
      "source": [
        "Table of contents\n",
        "\n",
        "\n",
        "1.   [Part A: K-Means Clustering](#K-means-clustering)\n",
        "2.   [Part B: Nearest Neighbour Clustering](#nearest-neighbour-clustering)\n",
        "3. [Part C: DB-Scan clustering](#DB-scan-clustering)\n",
        "\n",
        "\n",
        "\n"
      ],
      "metadata": {
        "id": "uMGt4EH4QToZ"
      }
    },
    {
      "cell_type": "markdown",
      "source": [
        "# Importing libraries"
      ],
      "metadata": {
        "id": "Zy3Tk3ysQ7RJ"
      }
    },
    {
      "cell_type": "code",
      "source": [
        "import numpy as np\n",
        "import matplotlib.pyplot as plt\n",
        "from numpy.random import uniform\n",
        "from sklearn.metrics import confusion_matrix\n",
        "import seaborn as sns\n",
        "import random\n",
        "import pandas as pd\n",
        "import math\n",
        "import matplotlib\n",
        "import matplotlib.pyplot as plt\n",
        "from matplotlib.ticker import FormatStrFormatter"
      ],
      "metadata": {
        "id": "EJnYNqMd5j8I"
      },
      "execution_count": null,
      "outputs": []
    },
    {
      "cell_type": "markdown",
      "source": [
        "# Loading datasets"
      ],
      "metadata": {
        "id": "9s2EQpX6RAqI"
      }
    },
    {
      "cell_type": "code",
      "source": [
        "dataset_1 =  np.array([[2.0, 10.0], [2.,5.], [8., 4.], [5., 8.], [7., 5.], [6., 4.], [1.,2.], [4.,9.]])\n",
        "dataset_2 = pd.read_csv(\"https://raw.githubusercontent.com/tofighi/MachineLearning/master/datasets/heart.csv\")"
      ],
      "metadata": {
        "id": "Bq9BQsNw4jLT"
      },
      "execution_count": null,
      "outputs": []
    },
    {
      "cell_type": "code",
      "source": [
        "dataset_2_feat_df = dataset_2[['sbp', 'tobacco']]\n",
        "dataset_2_target_df = dataset_2[['chd']]"
      ],
      "metadata": {
        "id": "hgahWMrB5H9K"
      },
      "execution_count": null,
      "outputs": []
    },
    {
      "cell_type": "code",
      "source": [
        "dataset_2_feat_df"
      ],
      "metadata": {
        "colab": {
          "base_uri": "https://localhost:8080/",
          "height": 423
        },
        "id": "Tbe_Ch_ZkqO3",
        "outputId": "025816d1-5164-444e-fc07-ed2a2cc1b805"
      },
      "execution_count": null,
      "outputs": [
        {
          "output_type": "execute_result",
          "data": {
            "text/plain": [
              "     sbp  tobacco\n",
              "0    160    12.00\n",
              "1    144     0.01\n",
              "2    118     0.08\n",
              "3    170     7.50\n",
              "4    134    13.60\n",
              "..   ...      ...\n",
              "457  214     0.40\n",
              "458  182     4.20\n",
              "459  108     3.00\n",
              "460  118     5.40\n",
              "461  132     0.00\n",
              "\n",
              "[462 rows x 2 columns]"
            ],
            "text/html": [
              "\n",
              "  <div id=\"df-b3cc7512-9431-407c-9eda-4bea677c785c\">\n",
              "    <div class=\"colab-df-container\">\n",
              "      <div>\n",
              "<style scoped>\n",
              "    .dataframe tbody tr th:only-of-type {\n",
              "        vertical-align: middle;\n",
              "    }\n",
              "\n",
              "    .dataframe tbody tr th {\n",
              "        vertical-align: top;\n",
              "    }\n",
              "\n",
              "    .dataframe thead th {\n",
              "        text-align: right;\n",
              "    }\n",
              "</style>\n",
              "<table border=\"1\" class=\"dataframe\">\n",
              "  <thead>\n",
              "    <tr style=\"text-align: right;\">\n",
              "      <th></th>\n",
              "      <th>sbp</th>\n",
              "      <th>tobacco</th>\n",
              "    </tr>\n",
              "  </thead>\n",
              "  <tbody>\n",
              "    <tr>\n",
              "      <th>0</th>\n",
              "      <td>160</td>\n",
              "      <td>12.00</td>\n",
              "    </tr>\n",
              "    <tr>\n",
              "      <th>1</th>\n",
              "      <td>144</td>\n",
              "      <td>0.01</td>\n",
              "    </tr>\n",
              "    <tr>\n",
              "      <th>2</th>\n",
              "      <td>118</td>\n",
              "      <td>0.08</td>\n",
              "    </tr>\n",
              "    <tr>\n",
              "      <th>3</th>\n",
              "      <td>170</td>\n",
              "      <td>7.50</td>\n",
              "    </tr>\n",
              "    <tr>\n",
              "      <th>4</th>\n",
              "      <td>134</td>\n",
              "      <td>13.60</td>\n",
              "    </tr>\n",
              "    <tr>\n",
              "      <th>...</th>\n",
              "      <td>...</td>\n",
              "      <td>...</td>\n",
              "    </tr>\n",
              "    <tr>\n",
              "      <th>457</th>\n",
              "      <td>214</td>\n",
              "      <td>0.40</td>\n",
              "    </tr>\n",
              "    <tr>\n",
              "      <th>458</th>\n",
              "      <td>182</td>\n",
              "      <td>4.20</td>\n",
              "    </tr>\n",
              "    <tr>\n",
              "      <th>459</th>\n",
              "      <td>108</td>\n",
              "      <td>3.00</td>\n",
              "    </tr>\n",
              "    <tr>\n",
              "      <th>460</th>\n",
              "      <td>118</td>\n",
              "      <td>5.40</td>\n",
              "    </tr>\n",
              "    <tr>\n",
              "      <th>461</th>\n",
              "      <td>132</td>\n",
              "      <td>0.00</td>\n",
              "    </tr>\n",
              "  </tbody>\n",
              "</table>\n",
              "<p>462 rows × 2 columns</p>\n",
              "</div>\n",
              "      <button class=\"colab-df-convert\" onclick=\"convertToInteractive('df-b3cc7512-9431-407c-9eda-4bea677c785c')\"\n",
              "              title=\"Convert this dataframe to an interactive table.\"\n",
              "              style=\"display:none;\">\n",
              "        \n",
              "  <svg xmlns=\"http://www.w3.org/2000/svg\" height=\"24px\"viewBox=\"0 0 24 24\"\n",
              "       width=\"24px\">\n",
              "    <path d=\"M0 0h24v24H0V0z\" fill=\"none\"/>\n",
              "    <path d=\"M18.56 5.44l.94 2.06.94-2.06 2.06-.94-2.06-.94-.94-2.06-.94 2.06-2.06.94zm-11 1L8.5 8.5l.94-2.06 2.06-.94-2.06-.94L8.5 2.5l-.94 2.06-2.06.94zm10 10l.94 2.06.94-2.06 2.06-.94-2.06-.94-.94-2.06-.94 2.06-2.06.94z\"/><path d=\"M17.41 7.96l-1.37-1.37c-.4-.4-.92-.59-1.43-.59-.52 0-1.04.2-1.43.59L10.3 9.45l-7.72 7.72c-.78.78-.78 2.05 0 2.83L4 21.41c.39.39.9.59 1.41.59.51 0 1.02-.2 1.41-.59l7.78-7.78 2.81-2.81c.8-.78.8-2.07 0-2.86zM5.41 20L4 18.59l7.72-7.72 1.47 1.35L5.41 20z\"/>\n",
              "  </svg>\n",
              "      </button>\n",
              "      \n",
              "  <style>\n",
              "    .colab-df-container {\n",
              "      display:flex;\n",
              "      flex-wrap:wrap;\n",
              "      gap: 12px;\n",
              "    }\n",
              "\n",
              "    .colab-df-convert {\n",
              "      background-color: #E8F0FE;\n",
              "      border: none;\n",
              "      border-radius: 50%;\n",
              "      cursor: pointer;\n",
              "      display: none;\n",
              "      fill: #1967D2;\n",
              "      height: 32px;\n",
              "      padding: 0 0 0 0;\n",
              "      width: 32px;\n",
              "    }\n",
              "\n",
              "    .colab-df-convert:hover {\n",
              "      background-color: #E2EBFA;\n",
              "      box-shadow: 0px 1px 2px rgba(60, 64, 67, 0.3), 0px 1px 3px 1px rgba(60, 64, 67, 0.15);\n",
              "      fill: #174EA6;\n",
              "    }\n",
              "\n",
              "    [theme=dark] .colab-df-convert {\n",
              "      background-color: #3B4455;\n",
              "      fill: #D2E3FC;\n",
              "    }\n",
              "\n",
              "    [theme=dark] .colab-df-convert:hover {\n",
              "      background-color: #434B5C;\n",
              "      box-shadow: 0px 1px 3px 1px rgba(0, 0, 0, 0.15);\n",
              "      filter: drop-shadow(0px 1px 2px rgba(0, 0, 0, 0.3));\n",
              "      fill: #FFFFFF;\n",
              "    }\n",
              "  </style>\n",
              "\n",
              "      <script>\n",
              "        const buttonEl =\n",
              "          document.querySelector('#df-b3cc7512-9431-407c-9eda-4bea677c785c button.colab-df-convert');\n",
              "        buttonEl.style.display =\n",
              "          google.colab.kernel.accessAllowed ? 'block' : 'none';\n",
              "\n",
              "        async function convertToInteractive(key) {\n",
              "          const element = document.querySelector('#df-b3cc7512-9431-407c-9eda-4bea677c785c');\n",
              "          const dataTable =\n",
              "            await google.colab.kernel.invokeFunction('convertToInteractive',\n",
              "                                                     [key], {});\n",
              "          if (!dataTable) return;\n",
              "\n",
              "          const docLinkHtml = 'Like what you see? Visit the ' +\n",
              "            '<a target=\"_blank\" href=https://colab.research.google.com/notebooks/data_table.ipynb>data table notebook</a>'\n",
              "            + ' to learn more about interactive tables.';\n",
              "          element.innerHTML = '';\n",
              "          dataTable['output_type'] = 'display_data';\n",
              "          await google.colab.output.renderOutput(dataTable, element);\n",
              "          const docLink = document.createElement('div');\n",
              "          docLink.innerHTML = docLinkHtml;\n",
              "          element.appendChild(docLink);\n",
              "        }\n",
              "      </script>\n",
              "    </div>\n",
              "  </div>\n",
              "  "
            ]
          },
          "metadata": {},
          "execution_count": 4
        }
      ]
    },
    {
      "cell_type": "code",
      "source": [
        "dataset_2_feat_df.describe()"
      ],
      "metadata": {
        "colab": {
          "base_uri": "https://localhost:8080/",
          "height": 300
        },
        "id": "o75dR7CsktoD",
        "outputId": "af382469-228b-4e1e-8c03-8e88bc96591b"
      },
      "execution_count": null,
      "outputs": [
        {
          "output_type": "execute_result",
          "data": {
            "text/plain": [
              "              sbp     tobacco\n",
              "count  462.000000  462.000000\n",
              "mean   138.326840    3.635649\n",
              "std     20.496317    4.593024\n",
              "min    101.000000    0.000000\n",
              "25%    124.000000    0.052500\n",
              "50%    134.000000    2.000000\n",
              "75%    148.000000    5.500000\n",
              "max    218.000000   31.200000"
            ],
            "text/html": [
              "\n",
              "  <div id=\"df-5f37af07-a23e-4785-823d-87230f4ca999\">\n",
              "    <div class=\"colab-df-container\">\n",
              "      <div>\n",
              "<style scoped>\n",
              "    .dataframe tbody tr th:only-of-type {\n",
              "        vertical-align: middle;\n",
              "    }\n",
              "\n",
              "    .dataframe tbody tr th {\n",
              "        vertical-align: top;\n",
              "    }\n",
              "\n",
              "    .dataframe thead th {\n",
              "        text-align: right;\n",
              "    }\n",
              "</style>\n",
              "<table border=\"1\" class=\"dataframe\">\n",
              "  <thead>\n",
              "    <tr style=\"text-align: right;\">\n",
              "      <th></th>\n",
              "      <th>sbp</th>\n",
              "      <th>tobacco</th>\n",
              "    </tr>\n",
              "  </thead>\n",
              "  <tbody>\n",
              "    <tr>\n",
              "      <th>count</th>\n",
              "      <td>462.000000</td>\n",
              "      <td>462.000000</td>\n",
              "    </tr>\n",
              "    <tr>\n",
              "      <th>mean</th>\n",
              "      <td>138.326840</td>\n",
              "      <td>3.635649</td>\n",
              "    </tr>\n",
              "    <tr>\n",
              "      <th>std</th>\n",
              "      <td>20.496317</td>\n",
              "      <td>4.593024</td>\n",
              "    </tr>\n",
              "    <tr>\n",
              "      <th>min</th>\n",
              "      <td>101.000000</td>\n",
              "      <td>0.000000</td>\n",
              "    </tr>\n",
              "    <tr>\n",
              "      <th>25%</th>\n",
              "      <td>124.000000</td>\n",
              "      <td>0.052500</td>\n",
              "    </tr>\n",
              "    <tr>\n",
              "      <th>50%</th>\n",
              "      <td>134.000000</td>\n",
              "      <td>2.000000</td>\n",
              "    </tr>\n",
              "    <tr>\n",
              "      <th>75%</th>\n",
              "      <td>148.000000</td>\n",
              "      <td>5.500000</td>\n",
              "    </tr>\n",
              "    <tr>\n",
              "      <th>max</th>\n",
              "      <td>218.000000</td>\n",
              "      <td>31.200000</td>\n",
              "    </tr>\n",
              "  </tbody>\n",
              "</table>\n",
              "</div>\n",
              "      <button class=\"colab-df-convert\" onclick=\"convertToInteractive('df-5f37af07-a23e-4785-823d-87230f4ca999')\"\n",
              "              title=\"Convert this dataframe to an interactive table.\"\n",
              "              style=\"display:none;\">\n",
              "        \n",
              "  <svg xmlns=\"http://www.w3.org/2000/svg\" height=\"24px\"viewBox=\"0 0 24 24\"\n",
              "       width=\"24px\">\n",
              "    <path d=\"M0 0h24v24H0V0z\" fill=\"none\"/>\n",
              "    <path d=\"M18.56 5.44l.94 2.06.94-2.06 2.06-.94-2.06-.94-.94-2.06-.94 2.06-2.06.94zm-11 1L8.5 8.5l.94-2.06 2.06-.94-2.06-.94L8.5 2.5l-.94 2.06-2.06.94zm10 10l.94 2.06.94-2.06 2.06-.94-2.06-.94-.94-2.06-.94 2.06-2.06.94z\"/><path d=\"M17.41 7.96l-1.37-1.37c-.4-.4-.92-.59-1.43-.59-.52 0-1.04.2-1.43.59L10.3 9.45l-7.72 7.72c-.78.78-.78 2.05 0 2.83L4 21.41c.39.39.9.59 1.41.59.51 0 1.02-.2 1.41-.59l7.78-7.78 2.81-2.81c.8-.78.8-2.07 0-2.86zM5.41 20L4 18.59l7.72-7.72 1.47 1.35L5.41 20z\"/>\n",
              "  </svg>\n",
              "      </button>\n",
              "      \n",
              "  <style>\n",
              "    .colab-df-container {\n",
              "      display:flex;\n",
              "      flex-wrap:wrap;\n",
              "      gap: 12px;\n",
              "    }\n",
              "\n",
              "    .colab-df-convert {\n",
              "      background-color: #E8F0FE;\n",
              "      border: none;\n",
              "      border-radius: 50%;\n",
              "      cursor: pointer;\n",
              "      display: none;\n",
              "      fill: #1967D2;\n",
              "      height: 32px;\n",
              "      padding: 0 0 0 0;\n",
              "      width: 32px;\n",
              "    }\n",
              "\n",
              "    .colab-df-convert:hover {\n",
              "      background-color: #E2EBFA;\n",
              "      box-shadow: 0px 1px 2px rgba(60, 64, 67, 0.3), 0px 1px 3px 1px rgba(60, 64, 67, 0.15);\n",
              "      fill: #174EA6;\n",
              "    }\n",
              "\n",
              "    [theme=dark] .colab-df-convert {\n",
              "      background-color: #3B4455;\n",
              "      fill: #D2E3FC;\n",
              "    }\n",
              "\n",
              "    [theme=dark] .colab-df-convert:hover {\n",
              "      background-color: #434B5C;\n",
              "      box-shadow: 0px 1px 3px 1px rgba(0, 0, 0, 0.15);\n",
              "      filter: drop-shadow(0px 1px 2px rgba(0, 0, 0, 0.3));\n",
              "      fill: #FFFFFF;\n",
              "    }\n",
              "  </style>\n",
              "\n",
              "      <script>\n",
              "        const buttonEl =\n",
              "          document.querySelector('#df-5f37af07-a23e-4785-823d-87230f4ca999 button.colab-df-convert');\n",
              "        buttonEl.style.display =\n",
              "          google.colab.kernel.accessAllowed ? 'block' : 'none';\n",
              "\n",
              "        async function convertToInteractive(key) {\n",
              "          const element = document.querySelector('#df-5f37af07-a23e-4785-823d-87230f4ca999');\n",
              "          const dataTable =\n",
              "            await google.colab.kernel.invokeFunction('convertToInteractive',\n",
              "                                                     [key], {});\n",
              "          if (!dataTable) return;\n",
              "\n",
              "          const docLinkHtml = 'Like what you see? Visit the ' +\n",
              "            '<a target=\"_blank\" href=https://colab.research.google.com/notebooks/data_table.ipynb>data table notebook</a>'\n",
              "            + ' to learn more about interactive tables.';\n",
              "          element.innerHTML = '';\n",
              "          dataTable['output_type'] = 'display_data';\n",
              "          await google.colab.output.renderOutput(dataTable, element);\n",
              "          const docLink = document.createElement('div');\n",
              "          docLink.innerHTML = docLinkHtml;\n",
              "          element.appendChild(docLink);\n",
              "        }\n",
              "      </script>\n",
              "    </div>\n",
              "  </div>\n",
              "  "
            ]
          },
          "metadata": {},
          "execution_count": 5
        }
      ]
    },
    {
      "cell_type": "code",
      "source": [
        "dataset_2_feat_matrix = dataset_2_feat_df.to_numpy()\n",
        "dataset_2_target_vector = dataset_2_target_df.to_numpy()"
      ],
      "metadata": {
        "id": "VlEsMa6r7pxx"
      },
      "execution_count": null,
      "outputs": []
    },
    {
      "cell_type": "code",
      "source": [
        "# Let's perform the train-test split as per the lab document"
      ],
      "metadata": {
        "id": "_1nOK0oB-Jt0"
      },
      "execution_count": null,
      "outputs": []
    },
    {
      "cell_type": "markdown",
      "source": [
        "# Train test split"
      ],
      "metadata": {
        "id": "tRIW7mC5RGUm"
      }
    },
    {
      "cell_type": "code",
      "source": [
        "dataset_2_feat_matrix_train = dataset_2_feat_matrix[0:300]\n",
        "dataset_2_feat_matrix_test = dataset_2_feat_matrix[300:]\n",
        "print(dataset_2_feat_matrix_train.shape)\n",
        "print(dataset_2_feat_matrix_test.shape)\n",
        "dataset_2_target_vector_train = dataset_2_target_vector[0:300]\n",
        "dataset_2_target_vector_test = dataset_2_target_vector[300:]\n",
        "print(dataset_2_target_vector_train.shape)\n",
        "print(dataset_2_target_vector_test.shape)"
      ],
      "metadata": {
        "colab": {
          "base_uri": "https://localhost:8080/"
        },
        "id": "9lEOmOjM8oNQ",
        "outputId": "3e4c327b-e922-45a6-d101-a599b4512a5e"
      },
      "execution_count": null,
      "outputs": [
        {
          "output_type": "stream",
          "name": "stdout",
          "text": [
            "(300, 2)\n",
            "(162, 2)\n",
            "(300, 1)\n",
            "(162, 1)\n"
          ]
        }
      ]
    },
    {
      "cell_type": "markdown",
      "source": [
        "## Euclidean distance measurement helper function"
      ],
      "metadata": {
        "id": "FsJ6qHM8RLVB"
      }
    },
    {
      "cell_type": "code",
      "source": [
        "def calculate_euclidean_distance(data_point, centroids):\n",
        "  # Args:\n",
        "  # data_points : a numpy array of dimension (2,) that is xy co-ordinate of a point\n",
        "  # centroids: a numpy array of all the centriods specified in x-y co-ordinate form\n",
        "  # for example: [[1.2, 3], [2, 6], [34, 3] ]; for the nearest neighbour case, this will just be a list of data points\n",
        "  # Returns: a numpy array of euclidean distances calculated between the \"data_point\" and each of the centroid\n",
        "  #          it wull be an array of shape (n_cluster or centriods, )\n",
        "\n",
        "  if (centroids.shape[0] == 0):# If the array of centroids or other data points is empty, then the distance is 0 (distance to itself).\n",
        "                                # this case was added to ensure we can use this function for Nearest Neighbour clustering\n",
        "    return None # This line may solve the nearest nesighbour issue\n",
        "  temp = np.sqrt(np.sum((data_point - centroids)**2, axis = 1))\n",
        "\n",
        "  return temp"
      ],
      "metadata": {
        "id": "YQYrinduDYiX"
      },
      "execution_count": null,
      "outputs": []
    },
    {
      "cell_type": "markdown",
      "source": [
        "<a name=\"K-means-clustering\"></a>\n",
        "# Part A: K-means clustering\n",
        "\n"
      ],
      "metadata": {
        "id": "_LkKCXgRRWYj"
      }
    },
    {
      "cell_type": "code",
      "source": [
        "class KMeansClustering:\n",
        "  def __init__(self, num_of_clusters=3, num_of_epochs=100):\n",
        "        self.num_of_clusters = num_of_clusters\n",
        "        self.num_of_epochs = num_of_epochs\n",
        "        self.centroids = None # Will be a numpy array in this format : [[1,2], [3,2], [2,4], ....]\n",
        "        self.clusters = None # Will be a numpy array in this fromat: [[[1,4], [12,5], [29,7]] , [[12,6], [23,8]]]\n",
        "        self.cluster_labels = None # Will list the cluster label for each data points within the data set. Say, we have 2 cluster, then label\n",
        "                                    #  can either be 0 or 1\n",
        "        self.num_of_epoch_to_converge = None # This will store how many epochs we needed for convergence\n",
        "\n",
        "  # def init_centroids(self, defined_vals, )\n",
        "  def form_clusters(self, X_train, init_centroids):\n",
        "    # if the user doesn't provide centroids, choose centroids randomly from the\n",
        "    #  dataset\n",
        "    if ( init_centroids is None):\n",
        "       num_of_samples = X_train.shape[0]\n",
        "       random_indices = np.random.choice(num_of_samples,\n",
        "                                  size=self.num_of_clusters,\n",
        "                                  replace=False)\n",
        "       self.centroids = np.array([X_train[i] for i in random_indices]) # Randomly initialize the centroids\n",
        "\n",
        "    else:\n",
        "      self.centroids = init_centroids\n",
        "\n",
        "\n",
        "    previous_centroids = None\n",
        "\n",
        "    epoch_num = 1\n",
        "    self.num_of_epoch_to_converge = 0\n",
        "    while (np.not_equal(self.centroids,previous_centroids).any() and epoch_num <= self.num_of_epochs ):\n",
        "      # Re-initilize the clusters\n",
        "      self.clusters = [[] for _ in range (self.num_of_clusters)]\n",
        "      # Re-initialize the cluster labels\n",
        "      self.cluster_labels = []\n",
        "      for x in X_train:\n",
        "\n",
        "        distances = calculate_euclidean_distance(x, self.centroids)\n",
        "        # Now find the index of the closest centroid\n",
        "        closest_centroid_index = np.argmin(distances)\n",
        "        # Add the cluster label\n",
        "        self.cluster_labels.append(closest_centroid_index)\n",
        "        # Now add this point to the corresponding cluster\n",
        "        self.clusters[closest_centroid_index].append(x)\n",
        "      # Now update the centroids\n",
        "      previous_centroids = self.centroids\n",
        "      self.centroids = np.array([np.mean(k, axis = 0) for k in self.clusters])\n",
        "      epoch_num +=1\n",
        "      self.num_of_epoch_to_converge += 1\n",
        "      # Lastly take care of the cluster centroid which are NaN (due to having no points)\n",
        "\n",
        "      for i, k in enumerate(self.clusters):\n",
        "        if (len(k) == 0):# if this cluster has no points, then change its corresponding centroid from NaN to its previous val\n",
        "          self.centroids[i] = previous_centroids[i]\n",
        "\n",
        "  # Perform predictions on test data set\n",
        "  def predict (self, X_test):\n",
        "    # First find which centrid this data point is the closest to\n",
        "    i = 0\n",
        "    cluster_labels = []\n",
        "    while (i < X_test.shape[0]):\n",
        "      distances = calculate_euclidean_distance(X_test[i], self.centroids)\n",
        "      closest_centroid_index = np.argmin(distances)\n",
        "      # Add the cluster label\n",
        "      cluster_labels.append(closest_centroid_index)\n",
        "      i += 1\n",
        "    return cluster_labels"
      ],
      "metadata": {
        "id": "5Pez_UL4Iki5"
      },
      "execution_count": null,
      "outputs": []
    },
    {
      "cell_type": "markdown",
      "source": [
        "Choosing the three centroids for part A, dataset 1"
      ],
      "metadata": {
        "id": "iWk8yNVLRcn5"
      }
    },
    {
      "cell_type": "code",
      "source": [
        "centroids = np.array([[2.,5.], [8., 4.], [4.,9.]]) # These three points correspond to A2, A3, and A8 respectively"
      ],
      "metadata": {
        "id": "QgAnJNrmaThr"
      },
      "execution_count": null,
      "outputs": []
    },
    {
      "cell_type": "code",
      "source": [
        "kmeans = KMeansClustering(num_of_clusters=3, num_of_epochs=1)\n",
        "kmeans.form_clusters(dataset_1, init_centroids = centroids)"
      ],
      "metadata": {
        "id": "8oizlRLVlAua"
      },
      "execution_count": null,
      "outputs": []
    },
    {
      "cell_type": "markdown",
      "source": [
        "The new clusters after one epoch:"
      ],
      "metadata": {
        "id": "Ke6XEuJxRqSG"
      }
    },
    {
      "cell_type": "code",
      "source": [
        "kmeans.clusters"
      ],
      "metadata": {
        "colab": {
          "base_uri": "https://localhost:8080/"
        },
        "id": "ezZ-YFO0lQ9b",
        "outputId": "f52da528-266b-4a4c-ca1c-66b1b165c3d7"
      },
      "execution_count": null,
      "outputs": [
        {
          "output_type": "execute_result",
          "data": {
            "text/plain": [
              "[[array([2., 5.]), array([1., 2.])],\n",
              " [array([8., 4.]), array([7., 5.]), array([6., 4.])],\n",
              " [array([ 2., 10.]), array([5., 8.]), array([4., 9.])]]"
            ]
          },
          "metadata": {},
          "execution_count": 13
        }
      ]
    },
    {
      "cell_type": "markdown",
      "source": [
        "The new centroids after one epoch"
      ],
      "metadata": {
        "id": "0zmi1SCCR32Z"
      }
    },
    {
      "cell_type": "code",
      "source": [
        "kmeans.centroids"
      ],
      "metadata": {
        "colab": {
          "base_uri": "https://localhost:8080/"
        },
        "id": "R6fRerCO2wHO",
        "outputId": "fe4880a1-71c8-4665-d2e7-f7b73d177b53"
      },
      "execution_count": null,
      "outputs": [
        {
          "output_type": "execute_result",
          "data": {
            "text/plain": [
              "array([[1.5       , 3.5       ],\n",
              "       [7.        , 4.33333333],\n",
              "       [3.66666667, 9.        ]])"
            ]
          },
          "metadata": {},
          "execution_count": 14
        }
      ]
    },
    {
      "cell_type": "markdown",
      "source": [
        "Let's visualize the clusters after the single epoch"
      ],
      "metadata": {
        "id": "mpglS1HuSCAf"
      }
    },
    {
      "cell_type": "code",
      "source": [
        "# Now let's plot the results\n",
        "%matplotlib inline\n",
        "import matplotlib.pyplot as plt\n",
        "import seaborn as sns; sns.set()  # for plot styling"
      ],
      "metadata": {
        "id": "y8B44gct0vlj"
      },
      "execution_count": null,
      "outputs": []
    },
    {
      "cell_type": "code",
      "source": [
        "# from sklearn.datasets import make_blobs\n",
        "# X, y_true = make_blobs(n_samples=300, centers=4,\n",
        "#                        cluster_std=0.6, random_state=0)\n",
        "plt.axis([0, 10, 0, 11])\n",
        "plt.scatter(dataset_1[:, 0], dataset_1[:, 1], c=kmeans.cluster_labels, s=50, cmap='viridis');\n",
        "plt.scatter(kmeans.centroids[:, 0], kmeans.centroids[:, 1], c='black', s=90, alpha=0.5);"
      ],
      "metadata": {
        "colab": {
          "base_uri": "https://localhost:8080/",
          "height": 268
        },
        "id": "Uf_jBCVs3V1a",
        "outputId": "eed93ed7-7258-461a-8fa0-c703c5c3a958"
      },
      "execution_count": null,
      "outputs": [
        {
          "output_type": "display_data",
          "data": {
            "text/plain": [
              "<Figure size 432x288 with 1 Axes>"
            ],
            "image/png": "[encoded data removed]"
          },
          "metadata": {}
        }
      ]
    },
    {
      "cell_type": "markdown",
      "source": [
        "From the plot above we see that centroids are already in the mean position of their corresponding clusters. Thus we conclude we are already converged in just 1 epoch. To verify this we will run the model for 2 more epochs"
      ],
      "metadata": {
        "id": "igJdu_V0SgRj"
      }
    },
    {
      "cell_type": "code",
      "source": [
        "# Now run the K-means for 2 epochs\n",
        "kmeans = KMeansClustering(num_of_clusters=3, num_of_epochs=2)\n",
        "kmeans.form_clusters(dataset_1, init_centroids = centroids)\n",
        "kmeans.cluster_labels"
      ],
      "metadata": {
        "colab": {
          "base_uri": "https://localhost:8080/"
        },
        "id": "Qk2PCQbq91f4",
        "outputId": "4acf2c88-308b-4268-9d18-e36976fc1c7b"
      },
      "execution_count": null,
      "outputs": [
        {
          "output_type": "execute_result",
          "data": {
            "text/plain": [
              "[2, 0, 1, 2, 1, 1, 0, 2]"
            ]
          },
          "metadata": {},
          "execution_count": 17
        }
      ]
    },
    {
      "cell_type": "code",
      "source": [
        "# Lets plot the results\n",
        "plt.axis([0, 10, 0, 11])\n",
        "plt.scatter(dataset_1[:, 0], dataset_1[:, 1], c=kmeans.cluster_labels, s=50, cmap='viridis');\n",
        "plt.scatter(kmeans.centroids[:, 0], kmeans.centroids[:, 1], c='black', s=90, alpha=0.5);"
      ],
      "metadata": {
        "colab": {
          "base_uri": "https://localhost:8080/",
          "height": 268
        },
        "id": "XZcVzUza-_v_",
        "outputId": "78723ff0-6f34-4dc3-dbe5-df4d266f9f3b"
      },
      "execution_count": null,
      "outputs": [
        {
          "output_type": "display_data",
          "data": {
            "text/plain": [
              "<Figure size 432x288 with 1 Axes>"
            ],
            "image/png": "[encoded data removed]"
          },
          "metadata": {}
        }
      ]
    },
    {
      "cell_type": "code",
      "source": [
        "# Now run the K-means for 3 epochs\n",
        "kmeans = KMeansClustering(num_of_clusters=3, num_of_epochs=3)\n",
        "kmeans.form_clusters(dataset_1, init_centroids = centroids)\n",
        "kmeans.cluster_labels"
      ],
      "metadata": {
        "colab": {
          "base_uri": "https://localhost:8080/"
        },
        "id": "YgKQGfSs_OwS",
        "outputId": "3b7da8f8-de89-4613-9d28-ecff067d0f66"
      },
      "execution_count": null,
      "outputs": [
        {
          "output_type": "execute_result",
          "data": {
            "text/plain": [
              "[2, 0, 1, 2, 1, 1, 0, 2]"
            ]
          },
          "metadata": {},
          "execution_count": 19
        }
      ]
    },
    {
      "cell_type": "code",
      "source": [
        "# Lets plot the results\n",
        "plt.axis([0, 10, 0, 11])\n",
        "plt.scatter(dataset_1[:, 0], dataset_1[:, 1], c=kmeans.cluster_labels, s=50, cmap='viridis');\n",
        "plt.scatter(kmeans.centroids[:, 0], kmeans.centroids[:, 1], c='black', s=90, alpha=0.5);"
      ],
      "metadata": {
        "colab": {
          "base_uri": "https://localhost:8080/",
          "height": 268
        },
        "id": "XkzjHf_u_TQj",
        "outputId": "3e912a15-9d55-4828-ee31-f9c038d9c4c4"
      },
      "execution_count": null,
      "outputs": [
        {
          "output_type": "display_data",
          "data": {
            "text/plain": [
              "<Figure size 432x288 with 1 Axes>"
            ],
            "image/png": "[encoded data removed]"
          },
          "metadata": {}
        }
      ]
    },
    {
      "cell_type": "markdown",
      "source": [
        "From the subsequent plots of two latter epochs we conclude that we indeed need just 1 epoch to converge"
      ],
      "metadata": {
        "id": "GBeu90BBTcQD"
      }
    },
    {
      "cell_type": "markdown",
      "source": [
        "Now run the K-means clustering on the second dataset"
      ],
      "metadata": {
        "id": "W25lYLcUxvKH"
      }
    },
    {
      "cell_type": "code",
      "source": [
        "# Since we had two classes in our dataset, that is, 0 meaning person has heart disease, and 1 meaning person with no heart disease,\n",
        "# we aim to have two clusters.\n",
        "# We could just randomly initialize two centroid, howver, since we need to calculate accuracy later on, we\n",
        "# will rather want to randomly pick one data point from the set where target is 0 (that is no heart disease), and 1 data point\n",
        "# where the target is 1. This way, we can keep track of cluster labels"
      ],
      "metadata": {
        "id": "Jy9IH6F2bQDi"
      },
      "execution_count": null,
      "outputs": []
    },
    {
      "cell_type": "code",
      "source": [
        "def init_random_centroids(X_train, Y_train):\n",
        "  # This function will return TWO random centroids each from TWO different labels\n",
        "  # so that we can calculate accuracy of a binary K means clustering model\n",
        "  # Please note that the first centroid will correspond to label 0, and the\n",
        "  #  second centroid will correspond to label 1\n",
        "  temp_1 = [i for i in range(0, X_train.shape[0]) if (Y_train[i][0] == 0) ]\n",
        "  temp_2 = [i for i in range(0, X_train.shape[0]) if (Y_train[i][0] == 1) ]\n",
        "\n",
        "  return np.array([X_train[random.choice(temp_1)], X_train[random.choice(temp_2)]])\n",
        "\n"
      ],
      "metadata": {
        "id": "5qnxMt-Bd1nZ"
      },
      "execution_count": null,
      "outputs": []
    },
    {
      "cell_type": "code",
      "source": [
        "centroids = init_random_centroids(dataset_2_feat_matrix_train, dataset_2_target_vector_train)"
      ],
      "metadata": {
        "id": "32NY8ubjcBMn"
      },
      "execution_count": null,
      "outputs": []
    },
    {
      "cell_type": "code",
      "source": [
        "# Let's now train the model with the training data\n",
        "kmeans = KMeansClustering(num_of_clusters=2, num_of_epochs=20000)\n",
        "kmeans.form_clusters(dataset_2_feat_matrix_train, init_centroids = centroids)"
      ],
      "metadata": {
        "id": "05FUbyrulGxF"
      },
      "execution_count": null,
      "outputs": []
    },
    {
      "cell_type": "code",
      "source": [
        "# Now lets make predictions on the test data set\n",
        "predicted_labels = kmeans.predict(dataset_2_feat_matrix_test)"
      ],
      "metadata": {
        "id": "otQZb118p9Jz"
      },
      "execution_count": null,
      "outputs": []
    },
    {
      "cell_type": "markdown",
      "source": [
        "Shown below is the plot of ’sbp’ vs ’tobacco’ to represent the predicted data points with different color\n",
        "to show the two classes."
      ],
      "metadata": {
        "id": "SGAVmLwIUSnP"
      }
    },
    {
      "cell_type": "code",
      "source": [
        "kmeans.num_of_epoch_to_converge"
      ],
      "metadata": {
        "colab": {
          "base_uri": "https://localhost:8080/"
        },
        "id": "2DEvCl0iXu4d",
        "outputId": "1a3ac085-7afa-40ba-ac8d-f998f0e44600"
      },
      "execution_count": null,
      "outputs": [
        {
          "output_type": "execute_result",
          "data": {
            "text/plain": [
              "7"
            ]
          },
          "metadata": {},
          "execution_count": 27
        }
      ]
    },
    {
      "cell_type": "code",
      "source": [
        "# Lets plot the predicted results\n",
        "# plt.axis([0, 10, 0, 11])\n",
        "plt.scatter(dataset_2_feat_matrix_test[:, 0], dataset_2_feat_matrix_test[:, 1], c=predicted_labels, s=50, cmap='viridis');\n",
        "plt.scatter(kmeans.centroids[:, 0], kmeans.centroids[:, 1], c='black', s=90, alpha=0.5);"
      ],
      "metadata": {
        "colab": {
          "base_uri": "https://localhost:8080/",
          "height": 268
        },
        "id": "wFxgUfkLuRDa",
        "outputId": "6e308a9d-3360-4cfd-9998-a89d576340f2"
      },
      "execution_count": null,
      "outputs": [
        {
          "output_type": "display_data",
          "data": {
            "text/plain": [
              "<Figure size 432x288 with 1 Axes>"
            ],
            "image/png": "[encoded data removed]"
          },
          "metadata": {}
        }
      ]
    },
    {
      "cell_type": "markdown",
      "source": [
        "Ans to Q7. Shown below is the plot of ’sbp’ vs ’tobacco’ to represent the actual data points with different color\n",
        "to show the two classes."
      ],
      "metadata": {
        "id": "sEESAs5OUE4B"
      }
    },
    {
      "cell_type": "code",
      "source": [
        "# Lets plot the actual labels\n",
        "# plt.axis([0, 10, 0, 11])\n",
        "plt.scatter(dataset_2_feat_matrix_test[:, 0], dataset_2_feat_matrix_test[:, 1],\n",
        "            c=dataset_2_target_vector_test.reshape((dataset_2_target_vector_test.shape[0],)), s=50, cmap='viridis');\n",
        "# plt.scatter(kmeans.centroids[:, 0], kmeans.centroids[:, 1], c='black', s=90, alpha=0.5);"
      ],
      "metadata": {
        "colab": {
          "base_uri": "https://localhost:8080/",
          "height": 268
        },
        "id": "VcZJUa9Qmovg",
        "outputId": "0f5e8880-8c5a-4031-a62f-72f19e4e6ba9"
      },
      "execution_count": null,
      "outputs": [
        {
          "output_type": "display_data",
          "data": {
            "text/plain": [
              "<Figure size 432x288 with 1 Axes>"
            ],
            "image/png": "[encoded data removed]"
          },
          "metadata": {}
        }
      ]
    },
    {
      "cell_type": "code",
      "source": [
        "# Let's calculate the accuracy\n",
        "tn, fp, fn, tp = confusion_matrix(dataset_2_target_vector_test.reshape((dataset_2_target_vector_test.shape[0],)),\n",
        "                                  predicted_labels).ravel()\n",
        "accuracy_k_means = (tp+tn)/(tp+tn+fp+fn)\n",
        "accuracy_k_means"
      ],
      "metadata": {
        "colab": {
          "base_uri": "https://localhost:8080/"
        },
        "id": "F_f58lWeyTAV",
        "outputId": "d905136b-dc18-48d3-9998-58d3b51ad907"
      },
      "execution_count": null,
      "outputs": [
        {
          "output_type": "execute_result",
          "data": {
            "text/plain": [
              "0.6790123456790124"
            ]
          },
          "metadata": {},
          "execution_count": 869
        }
      ]
    },
    {
      "cell_type": "markdown",
      "source": [
        "So the accuracy was about 67 percent"
      ],
      "metadata": {
        "id": "-D_al7o6Tz87"
      }
    },
    {
      "cell_type": "markdown",
      "source": [
        "<a name=\"nearest-neighbour-clustering\"></a>\n",
        "#Part B: Nearest Neighbour Clustering"
      ],
      "metadata": {
        "id": "pw2nS_TNU5I_"
      }
    },
    {
      "cell_type": "code",
      "source": [
        "# Mow we implement the Neerest Neighbour algo"
      ],
      "metadata": {
        "id": "apmmXLUFvfwT"
      },
      "execution_count": null,
      "outputs": []
    },
    {
      "cell_type": "code",
      "source": [
        "class NearestNeighbourClustering:\n",
        "  def __init__(self, threshold):\n",
        "    self.threshold = threshold\n",
        "    self.clusters = [] # Will be a python list in this fromat: [[[1,4], [12,5], [29,7]] , [[12,6], [23,8]]]\n",
        "    self.cluster_labels = [] # Will list the cluster label for each data points within the data set. Say, we have 2 cluster, then label\n",
        "                                    #  can either be 0 or 1\n",
        "    self.clust_dict = None # Might ve helpful for lookups during the calculation\n",
        "\n",
        "  def form_clusters(self, X):\n",
        "    i = 0\n",
        "    while (i < X.shape[0]):\n",
        "      dist = calculate_euclidean_distance(X[i], np.array([X[k] for k in range(0, i)]))\n",
        "        #Now find out the lowest distance, and check if this distance is lessthan or equal to the threshold\n",
        "      if (dist is not None):\n",
        "        idx = np.argmin(dist)\n",
        "      else: # the very first point case.For the first sample edge case: Meaning this is the distance to itself, hence put this point in a  cluster where this point is the only member\n",
        "        self.clusters.append([X[i]])\n",
        "        self.cluster_labels.append(len(self.clusters) - 1) # IMPORTANT: meaning that the first data point will always be put in the first cluster\n",
        "        i+=1\n",
        "        continue\n",
        "      if (dist[idx] > self.threshold):\n",
        "        # Put this point in a seperate cluster\n",
        "        self.clusters.append([X[i]])\n",
        "        self.cluster_labels.append(len(self.clusters) - 1) # IMPORTANT: Cluster label starts from 0\n",
        "      elif (dist[idx] <= self.threshold):\n",
        "          cluster_idx = self.cluster_labels[idx] # basically the cluster index of the cluster where I can put this point into\n",
        "          self.clusters[cluster_idx].append(X[i]) #\n",
        "          # Added the line bwlow to fix the out of bound error\n",
        "          self.cluster_labels.append(cluster_idx)\n",
        "      i += 1\n",
        "  def predict(self, X_test, X_train):\n",
        "    # Args:\n",
        "    # X_test : the test dataset with features only\n",
        "    # X_train: the train dataset with features only\n",
        "    # Returns: a numpy array of shape (n,) where n is the num of samples in the train dataset. Each\n",
        "    #          element of this array is the predicted cluster label for the corresponding sample\n",
        "\n",
        "    j = 0\n",
        "    pred_cluster_labels = []\n",
        "    while (j < X_test.shape[0]):\n",
        "      # First calculate distance from this test data point to all the points in training dataset\n",
        "      distances = calculate_euclidean_distance(X_test[j], X_train)\n",
        "      # Now get the index where distance is the lowest\n",
        "      closest_neigh_idx = np.argmin(distances)\n",
        "      # Label this point's cluster the same as this closest point\n",
        "      pred_cluster_labels.append(self.cluster_labels[closest_neigh_idx])\n",
        "      j += 1\n",
        "    return pred_cluster_labels"
      ],
      "metadata": {
        "id": "33R4JFWlv-_2"
      },
      "execution_count": null,
      "outputs": []
    },
    {
      "cell_type": "code",
      "source": [
        "nearest_neigh = NearestNeighbourClustering(threshold = 4)"
      ],
      "metadata": {
        "id": "5juEGDkry1pa"
      },
      "execution_count": null,
      "outputs": []
    },
    {
      "cell_type": "code",
      "source": [
        "nearest_neigh.form_clusters(dataset_1)"
      ],
      "metadata": {
        "id": "zo85dgSGzA_w"
      },
      "execution_count": null,
      "outputs": []
    },
    {
      "cell_type": "code",
      "source": [
        "nearest_neigh.cluster_labels"
      ],
      "metadata": {
        "colab": {
          "base_uri": "https://localhost:8080/"
        },
        "id": "keLiW_dkZkDO",
        "outputId": "e844e606-8c0c-40bf-ca7e-90d1286ef5b3"
      },
      "execution_count": null,
      "outputs": [
        {
          "output_type": "execute_result",
          "data": {
            "text/plain": [
              "[0, 1, 2, 0, 2, 2, 1, 0]"
            ]
          },
          "metadata": {},
          "execution_count": 874
        }
      ]
    },
    {
      "cell_type": "code",
      "source": [
        "# Now let's plot the results\n",
        "%matplotlib inline\n",
        "import matplotlib.pyplot as plt\n",
        "import seaborn as sns; sns.set()  # for plot styling\n",
        "\n",
        "plt.axis([0, 10, 0, 11])\n",
        "plt.scatter(dataset_1[:, 0], dataset_1[:, 1], c=nearest_neigh.cluster_labels, s=50, cmap='viridis');\n",
        "# plt.scatter(kmeans.centroids[:, 0], kmeans.centroids[:, 1], c='black', s=90, alpha=0.5);"
      ],
      "metadata": {
        "id": "snxlOBEHgH8o",
        "colab": {
          "base_uri": "https://localhost:8080/",
          "height": 268
        },
        "outputId": "a5bff953-7d05-4c95-cb98-0566182eadc6"
      },
      "execution_count": null,
      "outputs": [
        {
          "output_type": "display_data",
          "data": {
            "text/plain": [
              "<Figure size 432x288 with 1 Axes>"
            ],
            "image/png": "[encoded data removed]"
          },
          "metadata": {}
        }
      ]
    },
    {
      "cell_type": "markdown",
      "source": [
        "From above, we see that we indeed got the same result as the K-means clustering"
      ],
      "metadata": {
        "id": "cBWiGyGBVExX"
      }
    },
    {
      "cell_type": "code",
      "source": [
        "# From above, we see that we indeed got the same result as the K-means clustering"
      ],
      "metadata": {
        "id": "YA3-jH1sN2s3"
      },
      "execution_count": null,
      "outputs": []
    },
    {
      "cell_type": "markdown",
      "source": [
        " In K-Means Clustering we needed to calculate distance of each point to each of the centroids to determine which cluster each point belongs to. in contrast, in Nearest Neighbour, we must calculate distance from each point to all the other data points. This means for large datset, the overhead of distance calclulation will be significant, and the learning will take much longer time compared to K-means clustering."
      ],
      "metadata": {
        "id": "X8HmLZmuVaCs"
      }
    },
    {
      "cell_type": "markdown",
      "source": [
        "Before we perform nearest neighbour clustering on the Dataset 2, we take note of the euclidean distances from the very first data point to all the other data points in the training set. Since nearest neighbour algorithm uses just distance as its hyperparameter, we will use the the median of these distance values as the hyperparameter t. In this way, we expect to generate two seperate clusters"
      ],
      "metadata": {
        "id": "c-39_ShjVtfz"
      }
    },
    {
      "cell_type": "code",
      "source": [
        "median_distance = np.median(calculate_euclidean_distance(dataset_2_feat_matrix_train[0], dataset_2_feat_matrix_train))\n",
        "median_distance"
      ],
      "metadata": {
        "colab": {
          "base_uri": "https://localhost:8080/"
        },
        "id": "-NNDGlWwURdL",
        "outputId": "476b7a35-f12c-4687-8ee9-751da7a6b21a"
      },
      "execution_count": null,
      "outputs": [
        {
          "output_type": "execute_result",
          "data": {
            "text/plain": [
              "30.077988415789015"
            ]
          },
          "metadata": {},
          "execution_count": 877
        }
      ]
    },
    {
      "cell_type": "code",
      "source": [
        "nearest_neigh = NearestNeighbourClustering(threshold = median_distance)\n",
        "nearest_neigh.form_clusters(dataset_2_feat_matrix_train)"
      ],
      "metadata": {
        "id": "HDhlyK8LQ2OI"
      },
      "execution_count": null,
      "outputs": []
    },
    {
      "cell_type": "code",
      "source": [
        "np.unique(nearest_neigh.cluster_labels)"
      ],
      "metadata": {
        "colab": {
          "base_uri": "https://localhost:8080/"
        },
        "id": "fddnO2xtSJ_P",
        "outputId": "58f11091-1d5b-417a-bd24-4a0273255773"
      },
      "execution_count": null,
      "outputs": [
        {
          "output_type": "execute_result",
          "data": {
            "text/plain": [
              "array([0, 1])"
            ]
          },
          "metadata": {},
          "execution_count": 879
        }
      ]
    },
    {
      "cell_type": "code",
      "source": [
        "# Now let's plot the results\n",
        "%matplotlib inline\n",
        "import matplotlib.pyplot as plt\n",
        "import seaborn as sns; sns.set()  # for plot styling\n",
        "\n",
        "# plt.axis([0, 10, 0, 11])\n",
        "plt.scatter(dataset_2_feat_matrix_train[:, 0], dataset_2_feat_matrix_train[:, 1], c=nearest_neigh.cluster_labels, s=50, cmap='viridis');\n",
        "# plt.scatter(kmeans.centroids[:, 0], kmeans.centroids[:, 1], c='black', s=90, alpha=0.5);"
      ],
      "metadata": {
        "colab": {
          "base_uri": "https://localhost:8080/",
          "height": 268
        },
        "id": "Xp8wlT3-RwqJ",
        "outputId": "e1c2fca9-c4fe-4ced-9956-931c5f832608"
      },
      "execution_count": null,
      "outputs": [
        {
          "output_type": "display_data",
          "data": {
            "text/plain": [
              "<Figure size 432x288 with 1 Axes>"
            ],
            "image/png": "[encoded data removed]"
          },
          "metadata": {}
        }
      ]
    },
    {
      "cell_type": "code",
      "source": [
        "# Now we will calculate this nearest neighbour model's accuracy using the training data set"
      ],
      "metadata": {
        "id": "SJ6sbgXsp91S"
      },
      "execution_count": null,
      "outputs": []
    },
    {
      "cell_type": "code",
      "source": [
        "predicted_cluster_labels = nearest_neigh.predict(dataset_2_feat_matrix_test, dataset_2_feat_matrix_train)"
      ],
      "metadata": {
        "id": "yvINPnW7qKs5"
      },
      "execution_count": null,
      "outputs": []
    },
    {
      "cell_type": "code",
      "source": [
        "# Let's calculate the accuracy\n",
        "tn, fp, fn, tp = confusion_matrix(dataset_2_target_vector_test.reshape((dataset_2_target_vector_test.shape[0],)),\n",
        "                                  predicted_cluster_labels).ravel()\n",
        "accuracy_nearest_neigh = (tp+tn)/(tp+tn+fp+fn)\n",
        "accuracy_nearest_neigh"
      ],
      "metadata": {
        "colab": {
          "base_uri": "https://localhost:8080/"
        },
        "id": "kz0iusjwsvbr",
        "outputId": "6f71569e-6105-434d-94c9-e66c2ec41b9d"
      },
      "execution_count": null,
      "outputs": [
        {
          "output_type": "execute_result",
          "data": {
            "text/plain": [
              "0.7098765432098766"
            ]
          },
          "metadata": {},
          "execution_count": 883
        }
      ]
    },
    {
      "cell_type": "markdown",
      "source": [
        "The accuracy was about 71 percent"
      ],
      "metadata": {
        "id": "Ozvo9IQ8WE5f"
      }
    },
    {
      "cell_type": "code",
      "source": [
        "# Now let's plot the results\n",
        "%matplotlib inline\n",
        "import matplotlib.pyplot as plt\n",
        "import seaborn as sns; sns.set()  # for plot styling\n",
        "\n",
        "# plt.axis([0, 10, 0, 11])\n",
        "plt.scatter(dataset_2_feat_matrix_test[:, 0], dataset_2_feat_matrix_test[:, 1], c=predicted_cluster_labels, s=50, cmap='viridis');\n",
        "# plt.scatter(kmeans.centroids[:, 0], kmeans.centroids[:, 1], c='black', s=90, alpha=0.5);"
      ],
      "metadata": {
        "colab": {
          "base_uri": "https://localhost:8080/",
          "height": 268
        },
        "id": "K8ruEMdasXAu",
        "outputId": "3a3eafc1-8a2e-4236-f1fe-f2de75e46cab"
      },
      "execution_count": null,
      "outputs": [
        {
          "output_type": "display_data",
          "data": {
            "text/plain": [
              "<Figure size 432x288 with 1 Axes>"
            ],
            "image/png": "[encoded data removed]"
          },
          "metadata": {}
        }
      ]
    },
    {
      "cell_type": "markdown",
      "source": [
        "\n",
        "<a name=\"DB-scan-clustering\"></a>\n",
        "# Part C: DB-Scan clustering"
      ],
      "metadata": {
        "id": "2i8rsQFRZve5"
      }
    },
    {
      "cell_type": "code",
      "source": [
        "class DBScanClustering:\n",
        "  def __init__(self, epsilon, min_points):\n",
        "    self.epsilon = epsilon\n",
        "    self.min_points = min_points\n",
        "    self.clusters = [] # Will be a python list in this fromat: [[[1,4], [12,5], [29,7]] , [[12,6], [23,8]]]\n",
        "    self.cluster_labels = None # Will list the cluster label for each data points within the data set. Say, we have 2 cluster, then label\n",
        "                                    #  can either be 0 or 1. please note that noise points will have a label of 0\n",
        "    self.clust_dict = None # Might ve helpful for lookups during the calculation\n",
        "\n",
        "  def check_neighbours(self, point_idx, data_X_train):\n",
        "    # Args:\n",
        "    # point_idx: index of the point whose neighbourhood we want to check. It is a single non-negative int\n",
        "    # data_X_train: training data set (features only)\n",
        "    # Return values:\n",
        "    # neighbours_idx, is_core_point, is_border_point, is_noise_point, where neighbours_idx is a np array in format: [n1, n2, n3....]\n",
        "\n",
        "    # First get the euclidean distances from this point to all the other points\n",
        "    distances = calculate_euclidean_distance(data_X_train[point_idx], data_X_train)\n",
        "    # Find the idx where the distance is equal or below the epsilon\n",
        "    idx = [i for i in range(distances.shape[0]) if ((distances[i] != 0) and (distances[i] <= self.epsilon))]\n",
        "    idx = np.array(idx)\n",
        "\n",
        "    if (idx.shape[0] >= self.min_points-1): # -1 is because minpoint calculation always includes this point\n",
        "      return idx, True, False, False\n",
        "    elif ((idx.shape[0] < self.min_points-1) and (idx.shape[0] > 0)):\n",
        "      return idx, False, True, False\n",
        "    elif (idx.shape[0] == 0):\n",
        "      return idx, False, False, True\n",
        "\n",
        "  def form_cluster(self, data_X_train):\n",
        "    # At first create a list that needs to be visisted (in index form)\n",
        "    unvisited_point_idx = [i for i in range(data_X_train.shape[0])] # Initialization like this because at the beginning ALL points need to be visited\n",
        "    stack = set()\n",
        "    # Initialize the cluster labels for each point to NaN as we have not started the algo yet\n",
        "    self.cluster_labels = np.array([np.nan for _ in range(data_X_train.shape[0])])\n",
        "\n",
        "    cluster_label = 1 # Initialization of the cluster label\n",
        "    while (len(unvisited_point_idx) != 0) :\n",
        "      # A flag that tells us if we have begun to form a new cluster (which starts whenever we find a core point)\n",
        "      cluster_initialized = False\n",
        "      # Pick a point at random from the unvisited_point_idx\n",
        "      # and push this point as \"to be visited\" on the stack\n",
        "      stack.add(random.choice(unvisited_point_idx))\n",
        "\n",
        "      while(len(stack) != 0):\n",
        "        point_idx = stack.pop()\n",
        "        neighbours_idx, is_core_point, is_border_point, is_noise_point = self.check_neighbours(point_idx, data_X_train)\n",
        "        # Now remove this point from unvisited list of points\n",
        "        unvisited_point_idx.remove(point_idx)\n",
        "\n",
        "        if (is_border_point and (not (cluster_initialized))):\n",
        "          # If we find a point which has less than min_points num of neighbours, and\n",
        "          # none of its neighbours are core points\n",
        "\n",
        "          # First mark it as a noise point\n",
        "          self.cluster_labels[point_idx] = 0\n",
        "          # Also, mark all of its neighbours as noise points\n",
        "          for i in range(neighbours_idx.shape[0]):\n",
        "            self.cluster_labels[neighbours_idx[i]] = 0\n",
        "\n",
        "          # Now remove this point from unvisited list of points\n",
        "          # unvisited_point_idx.remove(point_idx)\n",
        "          # Also mark this point's neighbours as visited\n",
        "          unvisited_point_idx = [i for i in unvisited_point_idx if i not in neighbours_idx]\n",
        "          continue\n",
        "\n",
        "        # Now remove this point from unvisited list of points\n",
        "        # unvisited_point_idx.remove(point_idx)\n",
        "\n",
        "        if (is_core_point):\n",
        "          # If core point then push this core point's neighbours which are alos UNVISITED, on the stack\n",
        "          stack.update( set(neighbours_idx) & set(unvisited_point_idx))\n",
        "          # Now put a label regarding the cluster with this point\n",
        "          self.cluster_labels[point_idx] = cluster_label\n",
        "          # IMPORTANT: May need to add additional flag when this is core point\n",
        "          cluster_initialized = True\n",
        "\n",
        "        elif (is_noise_point):\n",
        "          # Meaning this point has no neighbours\n",
        "          # Just label this point's cluster\n",
        "          self.cluster_labels[point_idx] = 0 # 0 means this is a noise or outlier\n",
        "          continue\n",
        "        elif (is_border_point):\n",
        "          # Just label this point as the same one as the very first core point that also belongs the cluster this border point\n",
        "          # belongs to\n",
        "          self.cluster_labels[point_idx] = cluster_label\n",
        "          # No need to visit its neighbour\n",
        "          continue\n",
        "      # If we have visited all the points within a cluster, then we need to ensure the next cluster label will be different\n",
        "      if (cluster_initialized):\n",
        "        cluster_label += 1\n",
        "\n",
        "  def predict(self, X_test, X_train):\n",
        "    # Args:\n",
        "    # X_test : the test dataset with features only\n",
        "    # X_train: the train dataset with features only\n",
        "    # Returns: a numpy array of shape (n,) where n is the num of samples in the train dataset. Each\n",
        "    #          element of this array is the predicted cluster label for the corresponding sample\n",
        "\n",
        "\n",
        "    j = 0\n",
        "    pred_cluster_labels = []\n",
        "    while (j < X_test.shape[0]):\n",
        "      # First calculate distance from this point to all the points in train the dataset\n",
        "      distances = calculate_euclidean_distance(X_test[j], X_train)\n",
        "      # Now get the index where distance is the lowest\n",
        "      neigh_idx = [i for i in range(distances.shape[0]) if (distances[i] <= self.epsilon)]\n",
        "      if (len(neigh_idx) == 0): # If no neighbours\n",
        "        pred_cluster_labels.append(0) # 0 means that this is an outlier\n",
        "      else:\n",
        "        closest_point_idx = np.argmin(distances[neigh_idx])\n",
        "        closest_point_idx = neigh_idx[closest_point_idx]\n",
        "        pred_cluster_labels.append(int(self.cluster_labels[closest_point_idx]))\n",
        "      j += 1\n",
        "    return pred_cluster_labels\n"
      ],
      "metadata": {
        "id": "juGZM4TQ5HhR"
      },
      "execution_count": null,
      "outputs": []
    },
    {
      "cell_type": "code",
      "source": [
        "# Let's perform clustering on dataset 1 using epsilon = 2, and minpoints = 2"
      ],
      "metadata": {
        "id": "JMGfloXntSwx"
      },
      "execution_count": null,
      "outputs": []
    },
    {
      "cell_type": "code",
      "source": [
        "dbs = DBScanClustering(2,2)\n",
        "dbs.form_cluster(dataset_1)"
      ],
      "metadata": {
        "id": "lYo5d6M3rIcj"
      },
      "execution_count": null,
      "outputs": []
    },
    {
      "cell_type": "code",
      "source": [
        "dbs.cluster_labels"
      ],
      "metadata": {
        "id": "tvc1pGfr5ndL",
        "colab": {
          "base_uri": "https://localhost:8080/"
        },
        "outputId": "d95ec6ce-41c2-482b-c90e-3189a43e41d4"
      },
      "execution_count": null,
      "outputs": [
        {
          "output_type": "execute_result",
          "data": {
            "text/plain": [
              "array([0., 0., 1., 2., 1., 1., 0., 2.])"
            ]
          },
          "metadata": {},
          "execution_count": 888
        }
      ]
    },
    {
      "cell_type": "code",
      "source": [
        "# Now visualize the result\n",
        "%matplotlib inline\n",
        "import matplotlib.pyplot as plt\n",
        "import seaborn as sns; sns.set()  # for plot styling\n",
        "plt.axis([0, 10, 0, 12])\n",
        "\n",
        "for clust in np.unique(dbs.cluster_labels):\n",
        "  if (clust == 0):#To mark the noise or outliers\n",
        "    temp = dataset_1[dbs.cluster_labels == clust]\n",
        "    plt.scatter(temp[:,0], temp[:, 1], s=10, label=f\"Noise\")\n",
        "  else:\n",
        "    temp = dataset_1[dbs.cluster_labels == clust]\n",
        "    plt.scatter(temp[:,0], temp[:, 1], s=10, label=f\"Cluster{clust}\")\n",
        "\n",
        "plt.legend([f\"Cluster {int(clust)}\" for clust in np.unique(dbs.cluster_labels)], loc =\"upper right\")\n"
      ],
      "metadata": {
        "colab": {
          "base_uri": "https://localhost:8080/",
          "height": 290
        },
        "id": "oD9Dp10s6RYM",
        "outputId": "36be6944-f216-4ab1-80ad-5ae076bcf409"
      },
      "execution_count": null,
      "outputs": [
        {
          "output_type": "execute_result",
          "data": {
            "text/plain": [
              "<matplotlib.legend.Legend at 0x7f006b300e20>"
            ]
          },
          "metadata": {},
          "execution_count": 889
        },
        {
          "output_type": "display_data",
          "data": {
            "text/plain": [
              "<Figure size 432x288 with 1 Axes>"
            ],
            "image/png": "[encoded data removed]"
          },
          "metadata": {}
        }
      ]
    },
    {
      "cell_type": "markdown",
      "source": [
        "The plot of the DB Scan clustering on dataset 1 with epsilon = 2, and minpoint = 2. Please note that *Cluster 0* means outliers or noise"
      ],
      "metadata": {
        "id": "-Wfxg538WbZF"
      }
    },
    {
      "cell_type": "code",
      "source": [
        "# Let perform the DBscan with epsilon = sqrt(10), and minPoints = 2, and plot the result"
      ],
      "metadata": {
        "id": "WNGLIUSEIT1h"
      },
      "execution_count": null,
      "outputs": []
    },
    {
      "cell_type": "code",
      "source": [
        "dbs = DBScanClustering(np.sqrt(10),2)\n",
        "dbs.form_cluster(dataset_1)"
      ],
      "metadata": {
        "id": "nRDtEdfCInsz"
      },
      "execution_count": null,
      "outputs": []
    },
    {
      "cell_type": "code",
      "source": [
        "dbs.cluster_labels"
      ],
      "metadata": {
        "colab": {
          "base_uri": "https://localhost:8080/"
        },
        "id": "PYxhpbMxJZ8Q",
        "outputId": "3bddcccc-4743-484d-b949-bda8ea3f4eed"
      },
      "execution_count": null,
      "outputs": [
        {
          "output_type": "execute_result",
          "data": {
            "text/plain": [
              "array([1., 2., 3., 1., 3., 3., 2., 1.])"
            ]
          },
          "metadata": {},
          "execution_count": 892
        }
      ]
    },
    {
      "cell_type": "code",
      "source": [
        "# Now visualize the result\n",
        "%matplotlib inline\n",
        "import matplotlib.pyplot as plt\n",
        "import seaborn as sns; sns.set()  # for plot styling\n",
        "plt.axis([0, 10, 0, 12])\n",
        "\n",
        "for clust in np.unique(dbs.cluster_labels):\n",
        "  if (clust == 0):#To mark the noise or outliers\n",
        "    temp = dataset_1[dbs.cluster_labels == clust]\n",
        "    plt.scatter(temp[:,0], temp[:, 1], s=10, label=f\"Noise\")\n",
        "  else:\n",
        "    temp = dataset_1[dbs.cluster_labels == clust]\n",
        "    plt.scatter(temp[:,0], temp[:, 1], s=10, label=f\"Cluster{clust}\")\n",
        "\n",
        "plt.legend([f\"Cluster {int(clust)}\" for clust in np.unique(dbs.cluster_labels)], loc =\"upper right\")"
      ],
      "metadata": {
        "colab": {
          "base_uri": "https://localhost:8080/",
          "height": 290
        },
        "id": "sGInGB9bI4uX",
        "outputId": "ce08b42d-2615-4da3-f4ce-d90fabb87069"
      },
      "execution_count": null,
      "outputs": [
        {
          "output_type": "execute_result",
          "data": {
            "text/plain": [
              "<matplotlib.legend.Legend at 0x7f006b2747f0>"
            ]
          },
          "metadata": {},
          "execution_count": 893
        },
        {
          "output_type": "display_data",
          "data": {
            "text/plain": [
              "<Figure size 432x288 with 1 Axes>"
            ],
            "image/png": "[encoded data removed]"
          },
          "metadata": {}
        }
      ]
    },
    {
      "cell_type": "markdown",
      "source": [
        "Plot shown above for epsilon = sqrt(10), and and minpoint = 2"
      ],
      "metadata": {
        "id": "NPshrZ9IW7ui"
      }
    },
    {
      "cell_type": "code",
      "source": [
        "# Now train the DBScan model with SBP and tobacco features of dataset 2 feature train set\n",
        "# Since we must set epsilon and min_points before we train, we need to use the insights we gained from dataset 2 when we trained the Nearest Neighbour model with it.\n",
        "# Since epsilon is the distance measure similar to that of t in nearest neighbour, we will again use the median distance (median value of the distance from the very first sample\n",
        "# to all the other samples in the train set) as epsilon. Next we will pick the minpoints to be approximately half of the number of the samples in the train set. Approximately half\n",
        "#  is to take the outliers into account. So in practice it will be slightly lower.\n",
        "dbs = DBScanClustering(median_distance,120)\n",
        "dbs.form_cluster(dataset_2_feat_matrix_train)"
      ],
      "metadata": {
        "id": "-3qk2LMnMc4f"
      },
      "execution_count": null,
      "outputs": []
    },
    {
      "cell_type": "code",
      "source": [
        "# Now visualize the train result\n",
        "%matplotlib inline\n",
        "import matplotlib.pyplot as plt\n",
        "import seaborn as sns; sns.set()  # for plot styling\n",
        "# plt.axis([0, 10, 0, 12])\n",
        "\n",
        "for clust in np.unique(dbs.cluster_labels):\n",
        "  if (clust == 0):#To mark the noise or outliers\n",
        "    temp = dataset_2_feat_matrix_train[dbs.cluster_labels == clust]\n",
        "    plt.scatter(temp[:,0], temp[:, 1], s=10, label=f\"Noise\")\n",
        "  else:\n",
        "    temp = dataset_2_feat_matrix_train[dbs.cluster_labels == clust]\n",
        "    plt.scatter(temp[:,0], temp[:, 1], s=10, label=f\"Cluster{clust}\")\n",
        "\n",
        "plt.legend([f\"Cluster {int(clust)}\" for clust in np.unique(dbs.cluster_labels)], loc =\"upper right\")"
      ],
      "metadata": {
        "colab": {
          "base_uri": "https://localhost:8080/",
          "height": 286
        },
        "id": "lrmAZ0NbNCG0",
        "outputId": "baf558e4-389c-472a-9260-34b6c11a75fd"
      },
      "execution_count": null,
      "outputs": [
        {
          "output_type": "execute_result",
          "data": {
            "text/plain": [
              "<matplotlib.legend.Legend at 0x7f006b235160>"
            ]
          },
          "metadata": {},
          "execution_count": 895
        },
        {
          "output_type": "display_data",
          "data": {
            "text/plain": [
              "<Figure size 432x288 with 1 Axes>"
            ],
            "image/png": "[encoded data removed]"
          },
          "metadata": {}
        }
      ]
    },
    {
      "cell_type": "code",
      "source": [
        "# Now let's predict using the DBScan model using the test data set\n",
        "predicted_cluster_labels=np.array(dbs.predict(dataset_2_feat_matrix_test, dataset_2_feat_matrix_train))"
      ],
      "metadata": {
        "id": "wuwzK_bIPoiL"
      },
      "execution_count": null,
      "outputs": []
    },
    {
      "cell_type": "code",
      "source": [
        "# let's visualize the result\n",
        "%matplotlib inline\n",
        "import matplotlib.pyplot as plt\n",
        "import seaborn as sns; sns.set()  # for plot styling\n",
        "\n",
        "\n",
        "for clust in np.unique(predicted_cluster_labels):\n",
        "  if (clust == 0):#To mark the noise or outliers\n",
        "    temp = dataset_2_feat_matrix_test[predicted_cluster_labels == clust]\n",
        "    plt.scatter(temp[:,0], temp[:, 1], s=10, label=f\"Noise\")\n",
        "  else:\n",
        "    temp = dataset_2_feat_matrix_test[predicted_cluster_labels == clust]\n",
        "    plt.scatter(temp[:,0], temp[:, 1], s=10, label=f\"Cluster{clust}\")\n",
        "\n",
        "plt.legend([f\"Cluster {int(clust)}\" for clust in np.unique(predicted_cluster_labels)], loc =\"upper right\")"
      ],
      "metadata": {
        "colab": {
          "base_uri": "https://localhost:8080/",
          "height": 286
        },
        "id": "CpYhEytdLmOk",
        "outputId": "e53bbbf6-7e1f-438b-cfa6-c79302a2f517"
      },
      "execution_count": null,
      "outputs": [
        {
          "output_type": "execute_result",
          "data": {
            "text/plain": [
              "<matplotlib.legend.Legend at 0x7f006b1a50a0>"
            ]
          },
          "metadata": {},
          "execution_count": 897
        },
        {
          "output_type": "display_data",
          "data": {
            "text/plain": [
              "<Figure size 432x288 with 1 Axes>"
            ],
            "image/png": "[encoded data removed]"
          },
          "metadata": {}
        }
      ]
    },
    {
      "cell_type": "code",
      "source": [
        "# It is very important to note that in  our DBScan model, the outliers belongs to cluster label 0. While the test dataset's target column value is 0 when someone has heart disease\n",
        "# So, actually, the cluster label 1 in our predictions correspond to label of 0 in the test data, while cluster label of 0  to test data label 1 which signifies a person with\n",
        "# heart disease. This can be justified because there are much more people with no heart disease in our train dataset compared to numper of people with heart disease. Since the density\n",
        "# of points where persons have no heart disease is much higher, our DBScan model labeled them as normal cluster, while the points which represent people with heart disease were\n",
        "# identified as outliers or noise due to their lower density."
      ],
      "metadata": {
        "id": "Y0b6DklOzH3-"
      },
      "execution_count": null,
      "outputs": []
    },
    {
      "cell_type": "code",
      "source": [
        "# A custoom function is being defined because our DBScan model labeled positives as cluster 0, while negatives as cluster 1\n",
        "def get_prediction_stats(pred_labels, actual_labels):\n",
        "  i = 0\n",
        "  tp = 0\n",
        "  tn = 0\n",
        "  fp = 0\n",
        "  fn = 0\n",
        "  while (i < pred_labels.shape[0]):\n",
        "    # True positive case\n",
        "    if ((pred_labels[i] == 0) and  (actual_labels[i] == 1)):\n",
        "      tp+=1\n",
        "    # True negative case\n",
        "    elif ((pred_labels[i] == 1) and  (actual_labels[i] == 0)):\n",
        "      tn +=1\n",
        "    # False positive case\n",
        "    elif ((pred_labels[i] == 0) and  (actual_labels[i] == 0)):\n",
        "      fp +=1\n",
        "    # false negative case\n",
        "    elif ((pred_labels[i] == 1) and  (actual_labels[i] == 1)):\n",
        "      fn += 1\n",
        "    i += 1\n",
        "  return tp, tn, fp, fn\n"
      ],
      "metadata": {
        "id": "RSOEB_cV0PyX"
      },
      "execution_count": null,
      "outputs": []
    },
    {
      "cell_type": "code",
      "source": [
        "# Now calculate accuracy for this DBScan model"
      ],
      "metadata": {
        "id": "mOub-26lNJDc"
      },
      "execution_count": null,
      "outputs": []
    },
    {
      "cell_type": "code",
      "source": [
        "tp, tn, fp, fn = get_prediction_stats(predicted_cluster_labels, dataset_2_target_vector_test.reshape((dataset_2_target_vector_test.shape[0],)))"
      ],
      "metadata": {
        "id": "j08FbhY0O21b"
      },
      "execution_count": null,
      "outputs": []
    },
    {
      "cell_type": "code",
      "source": [
        "accuracy_db_scan = (tp+tn)/(tp+fp+tn+fn)"
      ],
      "metadata": {
        "id": "n3kJK1ffVAeQ"
      },
      "execution_count": null,
      "outputs": []
    },
    {
      "cell_type": "code",
      "source": [
        "accuracy_db_scan"
      ],
      "metadata": {
        "colab": {
          "base_uri": "https://localhost:8080/"
        },
        "id": "fzTkYeJLVP4c",
        "outputId": "53510262-6a4d-4f88-b69c-1f8f196cfb9b"
      },
      "execution_count": null,
      "outputs": [
        {
          "output_type": "execute_result",
          "data": {
            "text/plain": [
              "0.7160493827160493"
            ]
          },
          "metadata": {},
          "execution_count": 903
        }
      ]
    },
    {
      "cell_type": "code",
      "source": [
        "# For dataset 2: We note that our accuracy is about the same as compared to nearest neighbour model. However, it should be noted that we could further increase the accuracy by even\n",
        "# finer tuning of the epsilon and the minpoints hyperparameter. However, this was performed due to the extent of trial and error or optimization aproach that may be required.\n",
        "# On the other hand, the K-means clustering model's accuracy was about 67 % (lowest among the three). Since K-means clustering algorithm is very sensitive to outliers, and offers no\n",
        "# distance measure hyperparameters, it mistakenly clustered number of points due to these outliers.\n",
        "# For dataset 1: The K-means clustering algorithm's efficiency compared to the other two was noticeable because it only requires distance calculations between few given\n",
        "# centroids and each of the data samples in the train set. That being said, by adjusting the hyperparameters properly, all three were able to give same and correct models."
      ],
      "metadata": {
        "id": "i-dmPSXVVUey"
      },
      "execution_count": null,
      "outputs": []
    },
    {
      "cell_type": "markdown",
      "source": [
        "For dataset 2, we note that our accuracy is about the same as compared to nearest neighbour model. However, it should be noted that we could further increase the accuracy by even finer tuning of the epsilon and the minpoints hyperparameter. However, this was performed due to the extent of trial and error or optimization aproach that may be required.\n",
        "\n",
        "On the other hand, the K-means clustering model's accuracy was about 67 % (lowest among the three). Since K-means clustering algorithm is very sensitive to outliers, and offers no distance measure hyperparameters, it mistakenly clustered number of points due to these outliers.\n",
        "\n",
        "For dataset 1, The K-means clustering algorithm's efficiency compared to the other two was noticeable because it only requires distance calculations between few given centroids and each of the data samples in the train set. That being said, by adjusting the hyperparameters properly, all three were able to give same and correct models."
      ],
      "metadata": {
        "id": "SH9Wz99VXUw2"
      }
    },
    {
      "cell_type": "code",
      "source": [
        "from sklearn.cluster import KMeans\n",
        "kmeans_sci_kit = KMeans(n_clusters=2, init='random' ,random_state=0, n_init=50).fit(dataset_2_feat_matrix_train)\n",
        "predicted_cluster_labels_k_means= kmeans_sci_kit.predict(dataset_2_feat_matrix_test)"
      ],
      "metadata": {
        "id": "JxkvVB6V6yKe"
      },
      "execution_count": null,
      "outputs": []
    },
    {
      "cell_type": "code",
      "source": [
        "# Now calculate accuracy for K-means\n",
        "tn, fp, fn, tp = confusion_matrix(dataset_2_target_vector_test.reshape((dataset_2_target_vector_test.shape[0],)),\n",
        "                                 predicted_cluster_labels_k_means ).ravel()\n",
        "accuracy_k_means_sci_kit = (tp+tn)/(tp+tn+fp+fn)\n",
        "accuracy_k_means_sci_kit"
      ],
      "metadata": {
        "colab": {
          "base_uri": "https://localhost:8080/"
        },
        "id": "_qL6jkVIGcWW",
        "outputId": "1f53881e-942f-497f-b209-4517f8cc0103"
      },
      "execution_count": null,
      "outputs": [
        {
          "output_type": "execute_result",
          "data": {
            "text/plain": [
              "0.6790123456790124"
            ]
          },
          "metadata": {},
          "execution_count": 906
        }
      ]
    },
    {
      "cell_type": "code",
      "source": [
        "# Because Nearest neighbour algorithm is a special case of DBScan algorithm, where minpoint = 1, We will use the DBScan module\n",
        "from sklearn.cluster import DBSCAN\n",
        "\n",
        "nearest_neigh_sci_kit = DBSCAN(eps=median_distance, min_samples=1, algorithm = 'brute').fit(dataset_2_feat_matrix_train)\n",
        "predicted_cluster_labels_nearest_neigh = nearest_neigh_sci_kit.labels_\n",
        "# Since SciKit learn doesn't offer any method for predicting cluster labels, we will define a custom function for that"
      ],
      "metadata": {
        "id": "ZRmdoV52-NPc"
      },
      "execution_count": null,
      "outputs": []
    },
    {
      "cell_type": "code",
      "source": [
        "def db_scan_predict(X_test, X_train, cluster_labels, epsilon):\n",
        "    # Args:\n",
        "    # X_test : the test dataset with features only\n",
        "    # X_train: the train dataset with features only\n",
        "    # cluster_labels: predicted cluster labels\n",
        "    # epsilon: the epsilon param used in DBScan. Specify t value if used for Nearest Neighbour prediction\n",
        "    # Returns: a numpy array of shape (n,) where n is the num of samples in the train dataset. Each\n",
        "    #          element of this array is the predicted cluster label for the corresponding sample\n",
        "\n",
        "\n",
        "    j = 0\n",
        "    pred_cluster_labels = []\n",
        "    while (j < X_test.shape[0]):\n",
        "      # First calculate distance from this point to all the points in train the dataset\n",
        "      distances = calculate_euclidean_distance(X_test[j], X_train)\n",
        "      # Now get the index where distance is the lowest\n",
        "      neigh_idx = [i for i in range(distances.shape[0]) if (distances[i] <= epsilon)]\n",
        "      if (len(neigh_idx) == 0): # If no neighbours\n",
        "        pred_cluster_labels.append(0) # 0 means that this is an outlier\n",
        "      else:\n",
        "        closest_point_idx = np.argmin(distances[neigh_idx])\n",
        "        closest_point_idx = neigh_idx[closest_point_idx]\n",
        "        pred_cluster_labels.append(int(cluster_labels[closest_point_idx]))\n",
        "      j += 1\n",
        "    return pred_cluster_labels"
      ],
      "metadata": {
        "id": "7u_i_r74D0kG"
      },
      "execution_count": null,
      "outputs": []
    },
    {
      "cell_type": "code",
      "source": [
        "predicted_cluster_labels_nearest_neigh = db_scan_predict(dataset_2_feat_matrix_test, dataset_2_feat_matrix_train, predicted_cluster_labels_nearest_neigh, epsilon = median_distance )"
      ],
      "metadata": {
        "id": "Nwbc_KbZFN2-"
      },
      "execution_count": null,
      "outputs": []
    },
    {
      "cell_type": "code",
      "source": [
        "# Now calculate accuracy\n",
        "tn, fp, fn, tp = confusion_matrix(dataset_2_target_vector_test.reshape((dataset_2_target_vector_test.shape[0],)),\n",
        "                                 predicted_cluster_labels_nearest_neigh ).ravel()\n",
        "accuracy_nearest_neigh_sci_kit = (tp+tn)/(tp+tn+fp+fn)\n",
        "accuracy_nearest_neigh_sci_kit"
      ],
      "metadata": {
        "colab": {
          "base_uri": "https://localhost:8080/"
        },
        "id": "dq2abmWzGC5v",
        "outputId": "b5a2d4b0-c3bd-4b6c-c0ac-61b9f45e21e1"
      },
      "execution_count": null,
      "outputs": [
        {
          "output_type": "execute_result",
          "data": {
            "text/plain": [
              "0.691358024691358"
            ]
          },
          "metadata": {},
          "execution_count": 910
        }
      ]
    },
    {
      "cell_type": "code",
      "source": [
        "# Now calculate the accuracy for DB-Scan model"
      ],
      "metadata": {
        "id": "bwnMAeppGwuB"
      },
      "execution_count": null,
      "outputs": []
    },
    {
      "cell_type": "code",
      "source": [
        "DB_Scan_sci_kit = DBSCAN(eps=median_distance, min_samples=120, algorithm = 'brute').fit(dataset_2_feat_matrix_train)\n",
        "predicted_cluster_labels_db_scan = DB_Scan_sci_kit.labels_\n",
        "predicted_cluster_labels_db_scan = db_scan_predict(dataset_2_feat_matrix_test, dataset_2_feat_matrix_train, predicted_cluster_labels_db_scan, epsilon = median_distance )\n",
        "# Now we can't directly use confusion metrics to calculate accuracy because, DB Scan can detect outliers, and labels them as -1. So we use a custom function to calculate accuracy"
      ],
      "metadata": {
        "id": "PfjVE59uG2-x"
      },
      "execution_count": null,
      "outputs": []
    },
    {
      "cell_type": "code",
      "source": [
        "# A custoom function is being defined because our DBScan model labeled positives as cluster 0, while negatives as cluster 1\n",
        "def get_prediction_stats_sci_kit_db_scan(pred_labels, actual_labels):\n",
        "  i = 0\n",
        "  tp = 0\n",
        "  tn = 0\n",
        "  fp = 0\n",
        "  fn = 0\n",
        "  while (i < pred_labels.shape[0]):\n",
        "    # True positive case\n",
        "    if ( (pred_labels[i] != -1) and (pred_labels[i] == 1) and  (actual_labels[i] == 1)):\n",
        "      tp+=1\n",
        "    # True negative case\n",
        "    elif ((pred_labels[i] != -1) and (pred_labels[i] == 0) and  (actual_labels[i] == 0)):\n",
        "      tn +=1\n",
        "    # False positive case\n",
        "    elif ((pred_labels[i] != -1) and (pred_labels[i] == 1) and  (actual_labels[i] == 0)):\n",
        "      fp +=1\n",
        "    # false negative case\n",
        "    elif ((pred_labels[i] != -1) and (pred_labels[i] == 0) and  (actual_labels[i] == 1)):\n",
        "      fn += 1\n",
        "    i += 1\n",
        "  return tp, tn, fp, fn"
      ],
      "metadata": {
        "id": "parS7nscI52A"
      },
      "execution_count": null,
      "outputs": []
    },
    {
      "cell_type": "code",
      "source": [
        "tp, tn, fp, fn = get_prediction_stats_sci_kit_db_scan(np.array(predicted_cluster_labels_db_scan), dataset_2_target_vector_test.reshape((dataset_2_target_vector_test.shape[0],)))\n",
        "accuracy_db_scan_sci_kit = (tp+tn)/(tp+tn+fp+fn)\n",
        "accuracy_db_scan_sci_kit"
      ],
      "metadata": {
        "colab": {
          "base_uri": "https://localhost:8080/"
        },
        "id": "8e4D20CBJV21",
        "outputId": "08fbe7be-11a9-41d1-9f77-65dd8b70540a"
      },
      "execution_count": null,
      "outputs": [
        {
          "output_type": "execute_result",
          "data": {
            "text/plain": [
              "0.7070063694267515"
            ]
          },
          "metadata": {},
          "execution_count": 914
        }
      ]
    },
    {
      "cell_type": "code",
      "source": [
        "# So the Sci-kit learn accuracy values are:\n",
        "print(\"Sci kit learn accuracy values:\", \"K means: \", accuracy_k_means_sci_kit,\", nearest neighbour: \", accuracy_nearest_neigh_sci_kit, \", db scan\",accuracy_db_scan_sci_kit)\n",
        "print(\"Our accuracy values:\", \"K means: \", accuracy_k_means,\", nearest neighbour: \", accuracy_nearest_neigh, \", db scan\",accuracy_db_scan)"
      ],
      "metadata": {
        "colab": {
          "base_uri": "https://localhost:8080/"
        },
        "id": "bLMA92tnKZXy",
        "outputId": "af42d4b3-24f7-4a38-c480-dc6275a2e4c7"
      },
      "execution_count": null,
      "outputs": [
        {
          "output_type": "stream",
          "name": "stdout",
          "text": [
            "Sci kit learn accuracy values: K means:  0.6790123456790124 , nearest neighbour:  0.691358024691358 , db scan 0.7070063694267515\n",
            "Our accuracy values: K means:  0.6790123456790124 , nearest neighbour:  0.7098765432098766 , db scan 0.7160493827160493\n"
          ]
        }
      ]
    },
    {
      "cell_type": "markdown",
      "source": [
        "Based on the observation above we conclude that our implementations were correct, and closely resemble Sci-kit learn. Minor differences can be explained by possible run-time optimizations used in Sci-kit learn which could not be turned off."
      ],
      "metadata": {
        "id": "Pnlyb91wX5u3"
      }
    },
    {
      "cell_type": "code",
      "source": [],
      "metadata": {
        "id": "NRtUZGem6kyz"
      },
      "execution_count": null,
      "outputs": []
    }
  ]
}